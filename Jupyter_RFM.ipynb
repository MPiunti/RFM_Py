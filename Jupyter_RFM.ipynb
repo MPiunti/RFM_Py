{
 "cells": [
  {
   "cell_type": "code",
   "execution_count": null,
   "metadata": {
    "collapsed": true
   },
   "outputs": [],
   "source": [
    "import pandas as pd\n",
    "import warnings\n",
    "import datetime as dt\n",
    "\n",
    "warnings.filterwarnings('ignore')\n",
    "# The dataset contains all the transactions occurring between 01/12/2010 and 09/12/2011\n",
    "# for a UK-based and registered online retailer.\n",
    "df = pd.read_excel(\"OnlineRetail.xlsx\")\n",
    "#df[list('CustomerID')] = df[list('CustomerID')].astype(int)\n",
    "\n",
    "print(df.head())\n",
    "# df0 = df"
   ]
  },
  {
   "cell_type": "code",
   "execution_count": null,
   "metadata": {
    "collapsed": true
   },
   "outputs": [],
   "source": [
    "\n",
    "customer_country = df[['Country', 'CustomerID']].drop_duplicates()\n",
    "countries = customer_country.groupby(['Country'])['CustomerID'].aggregate('count')\\\n",
    "    .reset_index().sort_values('CustomerID', ascending=False)\n",
    "\n",
    "print(countries)\n",
    "\n",
    "# restrict on UK customers only\n",
    "df1 = df.loc[df['Country'] == 'United Kingdom']\n",
    "# remove null values\n",
    "df1 = df1[pd.notnull(df1['CustomerID'])]\n",
    "\n",
    "# remove values with negative quantity\n",
    "df1 = df1[(df1['Quantity'] > 0)]\n",
    "print(df1.shape)\n",
    "print(df1.info())"
   ]
  },
  {
   "cell_type": "code",
   "execution_count": null,
   "metadata": {
    "collapsed": true
   },
   "outputs": [],
   "source": [
    "\n",
    "# Check unique value for each column.\n",
    "def unique_counts(df1):\n",
    "\n",
    "    for i in df1.columns:\n",
    "       count = df1[i].nunique()\n",
    "       print(i, \": \", count)\n",
    "\n",
    "unique_counts(df1)\n",
    "\n",
    "# Add a column for total price\n",
    "df1['TotalPrice'] = df1['Quantity'] * df1['UnitPrice']\n",
    "\n",
    "\n"
   ]
  },
  {
   "cell_type": "markdown",
   "metadata": {
    "collapsed": true
   },
   "source": [
    "Find out the first and lastorder dates in the data\n",
    "df1['InvoiceDate'].min()\n",
    "Timestamp(‘2010–12–01 08:26:00’)\n",
    "df1['InvoiceDate'].max()\n",
    "Timestamp(‘2011–12–09 12:49:00’)"
   ]
  },
  {
   "cell_type": "markdown",
   "metadata": {
    "collapsed": true
   },
   "source": [
    "\n",
    "'''\n",
    "RECENCY\n",
    "Since recency is calculated for a point in time, and the last invoice date is 2011–12–09, \n",
    "we will use 2011–12–10 as last date to calculate recency.\n",
    "'''\n"
   ]
  },
  {
   "cell_type": "code",
   "execution_count": null,
   "metadata": {
    "collapsed": true
   },
   "outputs": [],
   "source": [
    "\n",
    "NOW = dt.datetime(2011, 12, 10)\n",
    "df1['InvoiceDate'] = pd.to_datetime(df1['InvoiceDate'])\n"
   ]
  },
  {
   "cell_type": "markdown",
   "metadata": {
    "collapsed": true
   },
   "source": [
    "RFM Customer Segmentation - create a RFM table\n"
   ]
  },
  {
   "cell_type": "code",
   "execution_count": null,
   "metadata": {
    "collapsed": true
   },
   "outputs": [],
   "source": [
    "\n",
    "rfmTable = df1.groupby('CustomerID').agg({'InvoiceDate': lambda x: (NOW - x.max()).days,\n",
    "                                          'InvoiceNo': lambda x: len(x),\n",
    "                                          'TotalPrice': lambda x: x.sum()})\n",
    "rfmTable['InvoiceDate'] = rfmTable['InvoiceDate'].astype(int)\n",
    "rfmTable.rename(columns={'InvoiceDate': 'recency',\n",
    "                         'InvoiceNo': 'frequency',\n",
    "                         'TotalPrice': 'monetary_value'}, inplace=True)\n",
    "\n",
    "# print(\"\\n\\n RFM TABLE IS: \\n\", rfmTable.head())\n",
    "\n",
    "# Let’s check the details of the first customer\n",
    "first_customer = df1[df1['CustomerID'] == 12346]\n",
    "# print(\"\\n \\n first_customer \\n\" , first_customer)\n"
   ]
  },
  {
   "cell_type": "markdown",
   "metadata": {
    "collapsed": true
   },
   "source": [
    "Split the metrics\n",
    "The easiest way to split metrics into segments is by using quartiles.\n",
    "This gives us a starting point for the detailed analysis.\n",
    "4 segments are easy to understand and explain\n"
   ]
  },
  {
   "cell_type": "code",
   "execution_count": null,
   "metadata": {
    "collapsed": true
   },
   "outputs": [],
   "source": [
    "\n",
    "quantiles = rfmTable.quantile(q=[0.25,0.5,0.75])\n",
    "quantiles = quantiles.to_dict()\n",
    "\n",
    "# create a segmented RFM table\n",
    "\n",
    "segmented_rfm = rfmTable\n",
    "\n",
    "# The lowest recency, highest frequency and monetary amounts are our best customers.\n",
    "\n",
    "\n",
    "def RScore(x, p, d):\n",
    "    if x <= d[p][0.25]:\n",
    "        return 1\n",
    "    elif x <= d[p][0.50]:\n",
    "        return 2\n",
    "    elif x <= d[p][0.75]:\n",
    "        return 3\n",
    "    else:\n",
    "        return 4\n",
    "\n",
    "\n",
    "def FMScore(x, p, d):\n",
    "    if x <= d[p][0.25]:\n",
    "        return 4\n",
    "    elif x <= d[p][0.50]:\n",
    "        return 3\n",
    "    elif x <= d[p][0.75]:\n",
    "        return 2\n",
    "    else:\n",
    "        return 1\n",
    "\n",
    "\n",
    "# Add segment numbers to  the  newly created segmented RFM table\n",
    "\n",
    "segmented_rfm['r_quartile'] = segmented_rfm['recency'].apply(RScore, args=('recency', quantiles,))\n",
    "segmented_rfm['f_quartile'] = segmented_rfm['frequency'].apply(FMScore, args=('frequency', quantiles,))\n",
    "segmented_rfm['m_quartile'] = segmented_rfm['monetary_value'].apply(FMScore, args=('monetary_value', quantiles,))\n",
    "\n",
    "\n",
    "segmented_rfm['RFMScore'] = segmented_rfm.r_quartile.map(str) \\\n",
    "                            + segmented_rfm.f_quartile.map(str) \\\n",
    "                            + segmented_rfm.m_quartile.map(str)\n"
   ]
  },
  {
   "cell_type": "code",
   "execution_count": null,
   "metadata": {
    "collapsed": true
   },
   "outputs": [],
   "source": [
    "# print(\" \\n SEGMENTED RFM: \\n\", segmented_rfm.head())\n",
    "# i\n",
    "# find out top 10 of our best customers\n",
    "print(\" \\n TOP 10 CUSTOMERS FROM SEGMENTED RFM: \\n\",\n",
    "      segmented_rfm[segmented_rfm['RFMScore'] == '111'].sort_values('monetary_value', ascending=False).head(10))\n"
   ]
  },
  {
   "cell_type": "markdown",
   "metadata": {
    "collapsed": true
   },
   "source": [
    "== RFM Clustering ==\n"
   ]
  },
  {
   "cell_type": "code",
   "execution_count": null,
   "metadata": {
    "collapsed": true
   },
   "outputs": [],
   "source": [
    "\n",
    "cluster_df = segmented_rfm['r_quartile', 'f_quartile', 'm_quartile']\n",
    "\n",
    "print(\" \\n ******** \\n CLUSTER SEGMENTED RFM: \\n ********** \\n \",\n",
    "      cluster_df.head(10))\n"
   ]
  }
 ],
 "metadata": {
  "kernelspec": {
   "display_name": "Python 2",
   "language": "python",
   "name": "python2"
  },
  "language_info": {
   "codemirror_mode": {
    "name": "ipython",
    "version": 2
   },
   "file_extension": ".py",
   "mimetype": "text/x-python",
   "name": "python",
   "nbconvert_exporter": "python",
   "pygments_lexer": "ipython2",
   "version": "2.7.6"
  }
 },
 "nbformat": 4,
 "nbformat_minor": 0
}
